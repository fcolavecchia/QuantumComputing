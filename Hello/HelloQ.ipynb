{
 "cells": [
  {
   "cell_type": "code",
   "execution_count": 5,
   "metadata": {},
   "outputs": [
    {
     "data": {
      "application/x-qsharp-data": "[\"SetPlus\"]",
      "text/html": [
       "<ul><li>SetPlus</li></ul>"
      ],
      "text/plain": [
       "SetPlus"
      ]
     },
     "execution_count": 5,
     "metadata": {
      "application/x-qsharp-data": {},
      "text/html": {},
      "text/plain": {}
     },
     "output_type": "execute_result"
    }
   ],
   "source": [
    "open Microsoft.Quantum.Random;\n",
    "\n",
    "/// # Summary\n",
    "/// Sets the qubit's state to |+⟩\n",
    "operation SetPlus(q: Qubit) : Unit {\n",
    "    Reset(q);\n",
    "    H(q);\n",
    "}"
   ]
  },
  {
   "cell_type": "code",
   "execution_count": 6,
   "metadata": {},
   "outputs": [
    {
     "data": {
      "application/x-qsharp-data": "[\"SampleRandomBit\"]",
      "text/html": [
       "<ul><li>SampleRandomBit</li></ul>"
      ],
      "text/plain": [
       "SampleRandomBit"
      ]
     },
     "execution_count": 6,
     "metadata": {
      "application/x-qsharp-data": {},
      "text/html": {},
      "text/plain": {}
     },
     "output_type": "execute_result"
    }
   ],
   "source": [
    "open Microsoft.Quantum.Diagnostics;\n",
    "open Microsoft.Quantum.Measurement;\n",
    "\n",
    "operation SampleRandomBit() : Result {\n",
    "    use q = Qubit();\n",
    "    SetPlus(q);\n",
    "    return MResetZ(q);\n",
    "}"
   ]
  },
  {
   "cell_type": "code",
   "execution_count": 8,
   "metadata": {},
   "outputs": [
    {
     "data": {
      "application/x-qsharp-data": "[\"SampleQuantumRandomNumberGenerator\",\"SampleRandomNumberInRange\",\"SampleRandomNumber\"]",
      "text/html": [
       "<ul><li>SampleQuantumRandomNumberGenerator</li><li>SampleRandomNumberInRange</li><li>SampleRandomNumber</li></ul>"
      ],
      "text/plain": [
       "SampleQuantumRandomNumberGenerator, SampleRandomNumberInRange, SampleRandomNumber"
      ]
     },
     "execution_count": 8,
     "metadata": {
      "application/x-qsharp-data": {},
      "text/html": {},
      "text/plain": {}
     },
     "output_type": "execute_result"
    }
   ],
   "source": [
    "open Microsoft.Quantum.Canon;\n",
    "open Microsoft.Quantum.Intrinsic;\n",
    "open Microsoft.Quantum.Measurement;\n",
    "open Microsoft.Quantum.Math;\n",
    "open Microsoft.Quantum.Convert;\n",
    "\n",
    "operation SampleQuantumRandomNumberGenerator() : Result {\n",
    "    // Allocate a qubit.\n",
    "    use q = Qubit();\n",
    "    // Put the qubit to superposition.\n",
    "    H(q);\n",
    "    // It now has a 50% chance of being measured 0 or 1.\n",
    "    // Measure the qubit value.\n",
    "    return M(q);\n",
    "}\n",
    "\n",
    "\n",
    "\n",
    "operation SampleRandomNumberInRange(max : Int) : Int {\n",
    "        mutable output = 0; \n",
    "        repeat {\n",
    "            mutable bits = []; \n",
    "            for idxBit in 1..BitSizeI(max) {\n",
    "                set bits += [SampleQuantumRandomNumberGenerator()]; \n",
    "            }\n",
    "            set output = ResultArrayAsInt(bits);\n",
    "        } until (output <= max);\n",
    "        return output;\n",
    "    }\n",
    "\n",
    "    \n",
    "operation SampleRandomNumber() : Int {\n",
    "    let max = 50;\n",
    "    Message($\"Sampling a random number between 0 and {max}: \");\n",
    "    return SampleRandomNumberInRange(max);\n",
    "}"
   ]
  },
  {
   "cell_type": "code",
   "execution_count": 12,
   "metadata": {},
   "outputs": [
    {
     "name": "stdout",
     "output_type": "stream",
     "text": [
      "Sampling a random number between 0 and 50: \n"
     ]
    },
    {
     "data": {
      "application/x-qsharp-data": "2",
      "text/plain": [
       "2"
      ]
     },
     "execution_count": 12,
     "metadata": {
      "application/x-qsharp-data": {},
      "text/plain": {}
     },
     "output_type": "execute_result"
    }
   ],
   "source": [
    "%simulate SampleRandomNumber"
   ]
  }
 ],
 "metadata": {
  "kernelspec": {
   "display_name": "Q#",
   "language": "qsharp",
   "name": "iqsharp"
  },
  "language_info": {
   "file_extension": ".qs",
   "mimetype": "text/x-qsharp",
   "name": "qsharp",
   "version": "0.26"
  },
  "orig_nbformat": 4,
  "vscode": {
   "interpreter": {
    "hash": "aee8b7b246df8f9039afb4144a1f6fd8d2ca17a180786b69acc140d282b71a49"
   }
  }
 },
 "nbformat": 4,
 "nbformat_minor": 2
}
